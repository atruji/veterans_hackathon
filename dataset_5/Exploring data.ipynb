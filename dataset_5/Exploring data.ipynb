{
 "cells": [
  {
   "cell_type": "code",
   "execution_count": 5,
   "metadata": {
    "collapsed": false
   },
   "outputs": [
    {
     "name": "stderr",
     "output_type": "stream",
     "text": [
      ":0: FutureWarning: IPython widgets are experimental and may change in the future.\n"
     ]
    }
   ],
   "source": [
    "import matplotlib.pyplot as plt\n",
    "%matplotlib inline\n",
    "from IPython.html.widgets import *"
   ]
  },
  {
   "cell_type": "markdown",
   "metadata": {},
   "source": [
    "#Importing the data"
   ]
  },
  {
   "cell_type": "code",
   "execution_count": 1,
   "metadata": {
    "collapsed": false
   },
   "outputs": [
    {
     "name": "stdout",
     "output_type": "stream",
     "text": [
      "Parse complete.\n",
      "Loading the data set...\n",
      "Education column updated as 'Education'\n",
      "Month Of Death column updated as 'Month_of_Death'\n",
      "Day of Week Of Death column updated as 'DOW_of_Death'\n",
      "Sex column updated as 'Sex'\n",
      "Age column name change\n",
      "Age group column name change\n",
      "Marital Status column name change\n",
      "Place_Of_Death column name change\n",
      "Race column name change\n",
      "\n",
      "Dataset is available as df_suicide_clean;\n",
      "Dictionary list of all columns definition is available in dictionary_list;\n",
      "To see the order in which dictinary are stored, see dictionary_list_names\n",
      "To use, chose dictionary, ditionary keys are the various values of the column.\n"
     ]
    }
   ],
   "source": [
    "run transform_dataset5.py"
   ]
  },
  {
   "cell_type": "code",
   "execution_count": 2,
   "metadata": {
    "collapsed": false
   },
   "outputs": [
    {
     "data": {
      "text/html": [
       "<div>\n",
       "<table border=\"1\" class=\"dataframe\">\n",
       "  <thead>\n",
       "    <tr style=\"text-align: right;\">\n",
       "      <th></th>\n",
       "      <th>Resident_Status</th>\n",
       "      <th>Education</th>\n",
       "      <th>Month_Of_Death</th>\n",
       "      <th>DOW_of_Death</th>\n",
       "      <th>Sex</th>\n",
       "      <th>Age</th>\n",
       "      <th>Age_Groups</th>\n",
       "      <th>Marital_Status</th>\n",
       "      <th>Place_Of_Death</th>\n",
       "      <th>Race</th>\n",
       "    </tr>\n",
       "  </thead>\n",
       "  <tbody>\n",
       "    <tr>\n",
       "      <th>0</th>\n",
       "      <td>1</td>\n",
       "      <td>99</td>\n",
       "      <td>2</td>\n",
       "      <td>5</td>\n",
       "      <td>0</td>\n",
       "      <td>41</td>\n",
       "      <td>6</td>\n",
       "      <td>3</td>\n",
       "      <td>4</td>\n",
       "      <td>1</td>\n",
       "    </tr>\n",
       "    <tr>\n",
       "      <th>1</th>\n",
       "      <td>4</td>\n",
       "      <td>99</td>\n",
       "      <td>2</td>\n",
       "      <td>1</td>\n",
       "      <td>0</td>\n",
       "      <td>49</td>\n",
       "      <td>7</td>\n",
       "      <td>2</td>\n",
       "      <td>7</td>\n",
       "      <td>1</td>\n",
       "    </tr>\n",
       "    <tr>\n",
       "      <th>2</th>\n",
       "      <td>2</td>\n",
       "      <td>99</td>\n",
       "      <td>2</td>\n",
       "      <td>4</td>\n",
       "      <td>0</td>\n",
       "      <td>61</td>\n",
       "      <td>8</td>\n",
       "      <td>2</td>\n",
       "      <td>1</td>\n",
       "      <td>1</td>\n",
       "    </tr>\n",
       "    <tr>\n",
       "      <th>3</th>\n",
       "      <td>1</td>\n",
       "      <td>99</td>\n",
       "      <td>2</td>\n",
       "      <td>7</td>\n",
       "      <td>0</td>\n",
       "      <td>41</td>\n",
       "      <td>6</td>\n",
       "      <td>1</td>\n",
       "      <td>4</td>\n",
       "      <td>1</td>\n",
       "    </tr>\n",
       "    <tr>\n",
       "      <th>4</th>\n",
       "      <td>1</td>\n",
       "      <td>99</td>\n",
       "      <td>2</td>\n",
       "      <td>7</td>\n",
       "      <td>0</td>\n",
       "      <td>26</td>\n",
       "      <td>5</td>\n",
       "      <td>1</td>\n",
       "      <td>4</td>\n",
       "      <td>1</td>\n",
       "    </tr>\n",
       "  </tbody>\n",
       "</table>\n",
       "</div>"
      ],
      "text/plain": [
       "   Resident_Status Education  Month_Of_Death  DOW_of_Death  Sex  Age  \\\n",
       "0                1        99               2             5    0   41   \n",
       "1                4        99               2             1    0   49   \n",
       "2                2        99               2             4    0   61   \n",
       "3                1        99               2             7    0   41   \n",
       "4                1        99               2             7    0   26   \n",
       "\n",
       "   Age_Groups  Marital_Status  Place_Of_Death  Race  \n",
       "0           6               3               4     1  \n",
       "1           7               2               7     1  \n",
       "2           8               2               1     1  \n",
       "3           6               1               4     1  \n",
       "4           5               1               4     1  "
      ]
     },
     "execution_count": 2,
     "metadata": {},
     "output_type": "execute_result"
    }
   ],
   "source": [
    "df_suicide_clean.head()"
   ]
  },
  {
   "cell_type": "code",
   "execution_count": 19,
   "metadata": {
    "collapsed": false
   },
   "outputs": [
    {
     "name": "stderr",
     "output_type": "stream",
     "text": [
      "/Users/AnnaVMS/anaconda/lib/python2.7/site-packages/IPython/kernel/__main__.py:2: SettingWithCopyWarning: \n",
      "A value is trying to be set on a copy of a slice from a DataFrame\n",
      "\n",
      "See the caveats in the documentation: http://pandas.pydata.org/pandas-docs/stable/indexing.html#indexing-view-versus-copy\n",
      "  from IPython.kernel.zmq import kernelapp as app\n"
     ]
    }
   ],
   "source": [
    "index_to_drop = df_suicide_clean[(df_suicide_clean['Age']==999)].index.tolist()\n",
    "df_suicide_clean.drop(index_to_drop, inplace=True)"
   ]
  },
  {
   "cell_type": "code",
   "execution_count": 61,
   "metadata": {
    "collapsed": false
   },
   "outputs": [
    {
     "name": "stderr",
     "output_type": "stream",
     "text": [
      "/Users/AnnaVMS/anaconda/lib/python2.7/site-packages/IPython/kernel/__main__.py:1: SettingWithCopyWarning: \n",
      "A value is trying to be set on a copy of a slice from a DataFrame\n",
      "\n",
      "See the caveats in the documentation: http://pandas.pydata.org/pandas-docs/stable/indexing.html#indexing-view-versus-copy\n",
      "  if __name__ == '__main__':\n"
     ]
    }
   ],
   "source": [
    "df_suicide_clean.drop('Education',axis=1, inplace=True)"
   ]
  },
  {
   "cell_type": "markdown",
   "metadata": {},
   "source": [
    "#Exploring the data"
   ]
  },
  {
   "cell_type": "code",
   "execution_count": 62,
   "metadata": {
    "collapsed": false
   },
   "outputs": [],
   "source": [
    "list_columns = df_suicide_clean.columns"
   ]
  },
  {
   "cell_type": "markdown",
   "metadata": {},
   "source": [
    "###general tendencies for the whole population"
   ]
  },
  {
   "cell_type": "code",
   "execution_count": 57,
   "metadata": {
    "collapsed": true
   },
   "outputs": [],
   "source": [
    "def hist_plot(column_name, bin_num):\n",
    "    print '%d values: '%len(df_suicide_clean[column_name].unique()), df_suicide_clean[column_name].unique()\n",
    "    plt.hist(df_suicide_clean[column_name].values, bins = bin_num)\n",
    "    plt.xlabel(str(column_name))"
   ]
  },
  {
   "cell_type": "code",
   "execution_count": 63,
   "metadata": {
    "collapsed": false
   },
   "outputs": [
    {
     "name": "stdout",
     "output_type": "stream",
     "text": [
      "8 values:  [4 7 1 2 5 6 3 9]\n"
     ]
    },
    {
     "data": {
      "image/png": "[encoded data removed]",
      "text/plain": [
       "<matplotlib.figure.Figure at 0x10964cf50>"
      ]
     },
     "metadata": {},
     "output_type": "display_data"
    }
   ],
   "source": [
    "interact(hist_plot, column_name = list(list_columns), bin_num = (1,12))"
   ]
  },
  {
   "cell_type": "markdown",
   "metadata": {},
   "source": [
    "####trends\n",
    "- Age: a peak around 30 and 50\n",
    "- Sex: males are more likely to commit suicide\n",
    "- Race: in absolute values, whites have the largest count\n",
    "- Place of Death: most usually at home\n",
    "- Month/Week: no clear trend"
   ]
  },
  {
   "cell_type": "markdown",
   "metadata": {},
   "source": [
    "###general tendencies for the whole population"
   ]
  },
  {
   "cell_type": "code",
   "execution_count": 50,
   "metadata": {
    "collapsed": false
   },
   "outputs": [],
   "source": [
    "def man_women_differences(column_name, race, bin_num):\n",
    "    print '%d values: '%len(df_suicide_clean[column_name].unique()), df_suicide_clean[column_name].unique()\n",
    "    if race ==0:\n",
    "        mask_f = (df_suicide_clean['Sex']==1)\n",
    "        mask_m = (df_suicide_clean['Sex']==0)\n",
    "    else:\n",
    "        mask_f = (df_suicide_clean['Sex']==1) & (df_suicide_clean['Race']==race)\n",
    "        mask_m = (df_suicide_clean['Sex']==0) & (df_suicide_clean['Race']==race)\n",
    "    df_suicide_clean[mask_f][column_name].hist(label='female', bins=bin_num)\n",
    "    df_suicide_clean[mask_m][column_name].hist(alpha=0.4, label='male', bins=bin_num)\n",
    "    plt.xlabel(str(column_name))\n",
    "    plt.ylabel('Count')\n",
    "    plt.legend()"
   ]
  },
  {
   "cell_type": "code",
   "execution_count": 51,
   "metadata": {
    "collapsed": false
   },
   "outputs": [
    {
     "name": "stdout",
     "output_type": "stream",
     "text": [
      "93 values:  [41 49 61 26 18 57 45 32 20 77 48 24 36 63 70 16 37 58 56 42 51 79 65 69 54\n",
      " 22 29 52 14 34 81 46 31 12 38 25 39 76 19 47 40 35 82 28 53 17 30 68 66 27\n",
      " 62 64 72 60 67  9 33 84 43 50 88 23 59 55 44 71 75 73 74 92 21 83 80 87 86\n",
      " 93 78 85 15 91 13 90 89 95 10 97  6 94 11 96 99 98  8]\n"
     ]
    },
    {
     "data": {
      "image/png": "[encoded data removed]",
      "text/plain": [
       "<matplotlib.figure.Figure at 0x10a3ba7d0>"
      ]
     },
     "metadata": {},
     "output_type": "display_data"
    }
   ],
   "source": [
    "interact(man_women_differences, column_name = list(list_columns), bin_num = (1,12), race=(0,2))"
   ]
  },
  {
   "cell_type": "code",
   "execution_count": 30,
   "metadata": {
    "collapsed": false
   },
   "outputs": [
    {
     "data": {
      "text/plain": [
       "array([ 1,  2, 48, 68,  3,  4, 28, 78, 18,  6,  5,  7, 38, 58])"
      ]
     },
     "execution_count": 30,
     "metadata": {},
     "output_type": "execute_result"
    }
   ],
   "source": [
    "df_suicide_clean.Race.unique()"
   ]
  },
  {
   "cell_type": "code",
   "execution_count": 41,
   "metadata": {
    "collapsed": true
   },
   "outputs": [],
   "source": [
    "def race_differences(race, column_name, bin_num):\n",
    "    print '%d values: '%len(df_suicide_clean[column_name].unique()), df_suicide_clean[column_name].unique()\n",
    "    mask_race = (df_suicide_clean['Race']==race)\n",
    "    print 'there are %d people concerned'%sum(df_suicide_clean['Race']==race)\n",
    "    df_suicide_clean[mask_race][column_name].hist(bins=bin_num)\n",
    "    plt.xlabel(str(column_name))\n",
    "    plt.ylabel('Count')\n",
    "    plt.legend()"
   ]
  },
  {
   "cell_type": "code",
   "execution_count": 42,
   "metadata": {
    "collapsed": false
   },
   "outputs": [
    {
     "name": "stdout",
     "output_type": "stream",
     "text": [
      "93 values:  [41 49 61 26 18 57 45 32 20 77 48 24 36 63 70 16 37 58 56 42 51 79 65 69 54\n",
      " 22 29 52 14 34 81 46 31 12 38 25 39 76 19 47 40 35 82 28 53 17 30 68 66 27\n",
      " 62 64 72 60 67  9 33 84 43 50 88 23 59 55 44 71 75 73 74 92 21 83 80 87 86\n",
      " 93 78 85 15 91 13 90 89 95 10 97  6 94 11 96 99 98  8]\n",
      "there are 15655 people concerned\n"
     ]
    },
    {
     "data": {
      "image/png": "[encoded data removed]",
      "text/plain": [
       "<matplotlib.figure.Figure at 0x10aa07750>"
      ]
     },
     "metadata": {},
     "output_type": "display_data"
    }
   ],
   "source": [
    "interact(race_differences, column_name = list(list_columns), bin_num = (1,12), race=(1,7))"
   ]
  },
  {
   "cell_type": "code",
   "execution_count": 48,
   "metadata": {
    "collapsed": true
   },
   "outputs": [],
   "source": [
    "def marital_status(column_name, bin_num):\n",
    "    print '%d values: '%len(df_suicide_clean[column_name].unique()), df_suicide_clean[column_name].unique()\n",
    "    mask_S = (df_suicide_clean['Marital_Status']==1)\n",
    "    mask_M = (df_suicide_clean['Marital_Status']==2)\n",
    "    print 'there are %d people concerned'%(sum(mask_S)+sum(mask_M))\n",
    "    df_suicide_clean[mask_S][column_name].hist(label='Single', bins=bin_num)\n",
    "    df_suicide_clean[mask_M][column_name].hist(label='Married', alpha = 0.2, bins=bin_num)\n",
    "    plt.xlabel(str(column_name))\n",
    "    plt.ylabel('Count')\n",
    "    plt.legend()"
   ]
  },
  {
   "cell_type": "code",
   "execution_count": 49,
   "metadata": {
    "collapsed": false
   },
   "outputs": [
    {
     "name": "stdout",
     "output_type": "stream",
     "text": [
      "93 values:  [41 49 61 26 18 57 45 32 20 77 48 24 36 63 70 16 37 58 56 42 51 79 65 69 54\n",
      " 22 29 52 14 34 81 46 31 12 38 25 39 76 19 47 40 35 82 28 53 17 30 68 66 27\n",
      " 62 64 72 60 67  9 33 84 43 50 88 23 59 55 44 71 75 73 74 92 21 83 80 87 86\n",
      " 93 78 85 15 91 13 90 89 95 10 97  6 94 11 96 99 98  8]\n",
      "there are 12141 people concerned\n"
     ]
    },
    {
     "data": {
      "image/png": "[encoded data removed]",
      "text/plain": [
       "<matplotlib.figure.Figure at 0x1093551d0>"
      ]
     },
     "metadata": {},
     "output_type": "display_data"
    }
   ],
   "source": [
    "interact(marital_status, column_name = list(list_columns), bin_num = (1,12))"
   ]
  },
  {
   "cell_type": "code",
   "execution_count": null,
   "metadata": {
    "collapsed": true
   },
   "outputs": [],
   "source": []
  }
 ],
 "metadata": {
  "kernelspec": {
   "display_name": "Python 2",
   "language": "python",
   "name": "python2"
  },
  "language_info": {
   "codemirror_mode": {
    "name": "ipython",
    "version": 2
   },
   "file_extension": ".py",
   "mimetype": "text/x-python",
   "name": "python",
   "nbconvert_exporter": "python",
   "pygments_lexer": "ipython2",
   "version": "2.7.11"
  }
 },
 "nbformat": 4,
 "nbformat_minor": 0
}
